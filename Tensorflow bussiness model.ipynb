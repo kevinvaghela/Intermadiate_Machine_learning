{
 "cells": [
  {
   "cell_type": "code",
   "execution_count": 1,
   "metadata": {},
   "outputs": [],
   "source": [
    "import numpy as np\n",
    "import tensorflow as tf"
   ]
  },
  {
   "cell_type": "markdown",
   "metadata": {},
   "source": [
    "# data"
   ]
  },
  {
   "cell_type": "code",
   "execution_count": 2,
   "metadata": {},
   "outputs": [],
   "source": [
    "# let's create a temporary variable npz, where we will store each of the three Audiobooks datasets\n",
    "npz = np.load(r\"C:\\Users\\Kevin's PC\\Audiobooks_data_train.npz\")\n",
    "\n",
    "# we extract the inputs using the keyword under which we saved them\n",
    "# to ensure that they are all floats, let's also take care of that\n",
    "train_inputs = npz['inputs'].astype(np.float)\n",
    "# targets must be int because of sparse_categorical_crossentropy (we want to be able to smoothly one-hot encode them)\n",
    "train_targets = npz['targets'].astype(np.int)\n",
    "\n",
    "# we load the validation data in the temporary variable\n",
    "npz = np.load(r\"C:\\Users\\Kevin's PC\\Audiobooks_data_validation.npz\")\n",
    "# we can load the inputs and the targets in the same line\n",
    "validation_inputs, validation_targets = npz['inputs'].astype(np.float), npz['targets'].astype(np.int)\n",
    "\n",
    "# we load the test data in the temporary variable\n",
    "npz = np.load(r\"C:\\Users\\Kevin's PC\\Audiobooks_data_test.npz\")\n",
    "# we create 2 variables that will contain the test inputs and the test targets\n",
    "test_inputs, test_targets = npz['inputs'].astype(np.float), npz['targets'].astype(np.int)"
   ]
  },
  {
   "cell_type": "markdown",
   "metadata": {},
   "source": [
    "# Model"
   ]
  },
  {
   "cell_type": "code",
   "execution_count": 6,
   "metadata": {},
   "outputs": [
    {
     "name": "stdout",
     "output_type": "stream",
     "text": [
      "Train on 3579 samples, validate on 447 samples\n",
      "Epoch 1/100\n",
      "3579/3579 - 1s - loss: 0.6302 - accuracy: 0.6787 - val_loss: 0.5523 - val_accuracy: 0.8255\n",
      "Epoch 2/100\n",
      "3579/3579 - 0s - loss: 0.4921 - accuracy: 0.8438 - val_loss: 0.4320 - val_accuracy: 0.8568\n",
      "Epoch 3/100\n",
      "3579/3579 - 0s - loss: 0.3954 - accuracy: 0.8692 - val_loss: 0.3625 - val_accuracy: 0.8635\n",
      "Epoch 4/100\n",
      "3579/3579 - 0s - loss: 0.3481 - accuracy: 0.8776 - val_loss: 0.3310 - val_accuracy: 0.8814\n",
      "Epoch 5/100\n",
      "3579/3579 - 0s - loss: 0.3256 - accuracy: 0.8807 - val_loss: 0.3122 - val_accuracy: 0.8881\n",
      "Epoch 6/100\n",
      "3579/3579 - 0s - loss: 0.3117 - accuracy: 0.8821 - val_loss: 0.3001 - val_accuracy: 0.8949\n",
      "Epoch 7/100\n",
      "3579/3579 - 0s - loss: 0.3007 - accuracy: 0.8866 - val_loss: 0.2890 - val_accuracy: 0.8926\n",
      "Epoch 8/100\n",
      "3579/3579 - 0s - loss: 0.2921 - accuracy: 0.8885 - val_loss: 0.2790 - val_accuracy: 0.8971\n",
      "Epoch 9/100\n",
      "3579/3579 - 0s - loss: 0.2860 - accuracy: 0.8902 - val_loss: 0.2731 - val_accuracy: 0.8949\n",
      "Epoch 10/100\n",
      "3579/3579 - 0s - loss: 0.2806 - accuracy: 0.8944 - val_loss: 0.2699 - val_accuracy: 0.8993\n",
      "Epoch 11/100\n",
      "3579/3579 - 0s - loss: 0.2759 - accuracy: 0.8952 - val_loss: 0.2663 - val_accuracy: 0.9016\n",
      "Epoch 12/100\n",
      "3579/3579 - 0s - loss: 0.2718 - accuracy: 0.8949 - val_loss: 0.2595 - val_accuracy: 0.9016\n",
      "Epoch 13/100\n",
      "3579/3579 - 0s - loss: 0.2690 - accuracy: 0.8963 - val_loss: 0.2573 - val_accuracy: 0.9083\n",
      "Epoch 14/100\n",
      "3579/3579 - 0s - loss: 0.2653 - accuracy: 0.8983 - val_loss: 0.2558 - val_accuracy: 0.9060\n",
      "Epoch 15/100\n",
      "3579/3579 - 0s - loss: 0.2632 - accuracy: 0.9014 - val_loss: 0.2535 - val_accuracy: 0.9060\n",
      "Epoch 16/100\n",
      "3579/3579 - 0s - loss: 0.2605 - accuracy: 0.9005 - val_loss: 0.2516 - val_accuracy: 0.9038\n",
      "Epoch 17/100\n",
      "3579/3579 - 0s - loss: 0.2582 - accuracy: 0.9005 - val_loss: 0.2497 - val_accuracy: 0.9038\n",
      "Epoch 18/100\n",
      "3579/3579 - 0s - loss: 0.2566 - accuracy: 0.9014 - val_loss: 0.2472 - val_accuracy: 0.9038\n",
      "Epoch 19/100\n",
      "3579/3579 - 0s - loss: 0.2554 - accuracy: 0.9022 - val_loss: 0.2461 - val_accuracy: 0.9060\n",
      "Epoch 20/100\n",
      "3579/3579 - 0s - loss: 0.2535 - accuracy: 0.9028 - val_loss: 0.2471 - val_accuracy: 0.9060\n",
      "Epoch 21/100\n",
      "3579/3579 - 0s - loss: 0.2515 - accuracy: 0.9025 - val_loss: 0.2445 - val_accuracy: 0.9038\n",
      "Epoch 22/100\n",
      "3579/3579 - 0s - loss: 0.2502 - accuracy: 0.9050 - val_loss: 0.2439 - val_accuracy: 0.9083\n",
      "Epoch 23/100\n",
      "3579/3579 - 0s - loss: 0.2492 - accuracy: 0.9050 - val_loss: 0.2412 - val_accuracy: 0.9083\n",
      "Epoch 24/100\n",
      "3579/3579 - 0s - loss: 0.2467 - accuracy: 0.9067 - val_loss: 0.2399 - val_accuracy: 0.9083\n",
      "Epoch 25/100\n",
      "3579/3579 - 0s - loss: 0.2455 - accuracy: 0.9053 - val_loss: 0.2369 - val_accuracy: 0.9105\n",
      "Epoch 26/100\n",
      "3579/3579 - 0s - loss: 0.2449 - accuracy: 0.9064 - val_loss: 0.2364 - val_accuracy: 0.9105\n",
      "Epoch 27/100\n",
      "3579/3579 - 0s - loss: 0.2439 - accuracy: 0.9050 - val_loss: 0.2341 - val_accuracy: 0.9128\n",
      "Epoch 28/100\n",
      "3579/3579 - 0s - loss: 0.2432 - accuracy: 0.9056 - val_loss: 0.2346 - val_accuracy: 0.9128\n",
      "Epoch 29/100\n",
      "3579/3579 - 0s - loss: 0.2423 - accuracy: 0.9070 - val_loss: 0.2323 - val_accuracy: 0.9128\n",
      "Epoch 30/100\n",
      "3579/3579 - 0s - loss: 0.2414 - accuracy: 0.9084 - val_loss: 0.2327 - val_accuracy: 0.9128\n",
      "Epoch 31/100\n",
      "3579/3579 - 0s - loss: 0.2404 - accuracy: 0.9086 - val_loss: 0.2350 - val_accuracy: 0.9128\n"
     ]
    },
    {
     "data": {
      "text/plain": [
       "<tensorflow.python.keras.callbacks.History at 0x154b1bdea08>"
      ]
     },
     "execution_count": 6,
     "metadata": {},
     "output_type": "execute_result"
    }
   ],
   "source": [
    "# Set the input and output sizes\n",
    "input_size = 10\n",
    "output_size = 2\n",
    "# Use same hidden layer size for both hidden layers. Not a necessity.\n",
    "hidden_layer_size = 20\n",
    "    \n",
    "# define how the model will look like\n",
    "model = tf.keras.Sequential([\n",
    "    # tf.keras.layers.Dense is basically implementing: output = activation(dot(input, weight) + bias)\n",
    "    # it takes several arguments, but the most important ones for us are the hidden_layer_size and the activation function\n",
    "    tf.keras.layers.Dense(hidden_layer_size, activation='relu'), # 1st hidden layer\n",
    "    tf.keras.layers.Dense(hidden_layer_size, activation='relu'), # 2nd hidden layer\n",
    "    # the final layer is no different, we just make sure to activate it with softmax\n",
    "    tf.keras.layers.Dense(output_size, activation='softmax') # output layer\n",
    "])\n",
    "\n",
    "\n",
    "### Choose the optimizer and the loss function\n",
    "\n",
    "# we define the optimizer we'd like to use, \n",
    "# the loss function, \n",
    "# and the metrics we are interested in obtaining at each iteration\n",
    "model.compile(optimizer='adam', loss='sparse_categorical_crossentropy', metrics=['accuracy'])\n",
    "\n",
    "### Training\n",
    "# That's where we train the model we have built.\n",
    "\n",
    "# set the batch size\n",
    "batch_size = 100\n",
    "\n",
    "# set a maximum number of training epochs\n",
    "max_epochs = 100\n",
    "\n",
    "# set an early stopping mechanism\n",
    "# let's set patience=2, to be a bit tolerant against random validation loss increases\n",
    "early_stopping = tf.keras.callbacks.EarlyStopping(patience=2)\n",
    "\n",
    "# fit the model\n",
    "# note that this time the train, validation and test data are not iterable\n",
    "model.fit(train_inputs, # train inputs\n",
    "          train_targets, # train targets\n",
    "          batch_size=batch_size, # batch size\n",
    "          epochs=max_epochs, # epochs that we will train for (assuming early stopping doesn't kick in)\n",
    "          # callbacks are functions called by a task when a task is completed\n",
    "          # task here is to check if val_loss is increasing\n",
    "          callbacks=[early_stopping], # early stopping\n",
    "          validation_data=(validation_inputs, validation_targets), # validation data\n",
    "          verbose = 2 # making sure we get enough information about the training process\n",
    "          )  "
   ]
  },
  {
   "cell_type": "code",
   "execution_count": 7,
   "metadata": {},
   "outputs": [
    {
     "name": "stdout",
     "output_type": "stream",
     "text": [
      "448/448 [==============================] - 0s 306us/sample - loss: 0.2364 - accuracy: 0.9129\n"
     ]
    }
   ],
   "source": [
    "test_loss, test_accuracy = model.evaluate(test_inputs, test_targets)"
   ]
  },
  {
   "cell_type": "code",
   "execution_count": 8,
   "metadata": {},
   "outputs": [
    {
     "name": "stdout",
     "output_type": "stream",
     "text": [
      "\n",
      "Test loss: 0.24. Test accuracy: 91.29%\n"
     ]
    }
   ],
   "source": [
    "print('\\nTest loss: {0:.2f}. Test accuracy: {1:.2f}%'.format(test_loss, test_accuracy*100.))"
   ]
  }
 ],
 "metadata": {
  "kernelspec": {
   "display_name": "Python 3",
   "language": "python",
   "name": "python3"
  },
  "language_info": {
   "codemirror_mode": {
    "name": "ipython",
    "version": 3
   },
   "file_extension": ".py",
   "mimetype": "text/x-python",
   "name": "python",
   "nbconvert_exporter": "python",
   "pygments_lexer": "ipython3",
   "version": "3.7.9"
  }
 },
 "nbformat": 4,
 "nbformat_minor": 4
}
